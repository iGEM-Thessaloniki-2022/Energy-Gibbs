{
 "cells": [
  {
   "cell_type": "code",
   "execution_count": 2,
   "id": "35c776a1-f982-4900-9462-0d174915b824",
   "metadata": {},
   "outputs": [
    {
     "name": "stdout",
     "output_type": "stream",
     "text": [
      "Requirement already satisfied: biopython in ./miniconda3/lib/python3.9/site-packages (1.79)\n",
      "Requirement already satisfied: numpy in ./miniconda3/lib/python3.9/site-packages (from biopython) (1.22.3)\n"
     ]
    },
    {
     "name": "stdin",
     "output_type": "stream",
     "text": [
      "Give hairpin sequence: \n",
      " TGTGT\n",
      "Give sirna sequence: \n",
      " AAAUUU\n",
      "Give hairpin sequence: \n",
      " TGGG\n",
      "Give sirna sequence: \n",
      " UAUAUAUC\n",
      "Give hairpin sequence: \n",
      " TTTCTTCTCT\n",
      "Give sirna sequence: \n",
      " UAUAUAUA\n",
      "Give hairpin sequence: \n",
      " GGGGGGG\n",
      "Give sirna sequence: \n",
      " UCUCUCUC\n"
     ]
    },
    {
     "name": "stdout",
     "output_type": "stream",
     "text": [
      "The initial DG is: - 34.2765\n"
     ]
    },
    {
     "name": "stdin",
     "output_type": "stream",
     "text": [
      "Give hairpin H1 sequence: \n",
      " CACAAATTCGGTTCTACTCAACATCAGTCTGACCACATGACAGACTGATGTTGAGTAGAACCGC TGATGAAATCAAAGTCGTCC\n",
      "Give hairpin H2 sequence: \n",
      " AGGAGGGTGATCTTCTTCACTGACAGACTGATGTTGAGTAGAACCGCGACAGCGCGGTTCTACT CAACATCAGTCTGTCATGTGGT\n",
      "Give hairpin H3 sequence: \n",
      " ACGACTTTGATTTCAACTCAGCGCTGTCGCGGTTCTACTCAACATCAGTCTGCGTAATCGCAGA CTGATGTTGAGTAGAACCG\n",
      "Give hairpin H4 sequence: \n",
      " CAGACTGATGTTGAGTAGAACCGAATTTGTGCGGTTCTACTCAACATCAGTCTGCGATTACGTC AGAAGAAGATCACCCTCCTTA\n"
     ]
    },
    {
     "name": "stdout",
     "output_type": "stream",
     "text": [
      "DG for HCR product is: - 142.6\n"
     ]
    },
    {
     "name": "stdin",
     "output_type": "stream",
     "text": [
      "Give sirna 1 sequence: \n",
      " GGACGACUUUGAUUUCAAC\n",
      "Give asir 1 sequence: \n",
      " GUUGAAAUCAAAGUCGUCC\n",
      "Give sirna 2 sequence: \n",
      " UGAAGAAGAUCACCCUCCUUA\n",
      "Give asir 2 sequence: \n",
      " UAAGGAGGGUGAUCUUCUUCA\n"
     ]
    },
    {
     "name": "stdout",
     "output_type": "stream",
     "text": [
      "The final DG is: - 160.583\n",
      "The total DG is: - 126.3065\n"
     ]
    }
   ],
   "source": [
    "#When running on Jupyter Lab \n",
    "import sys \n",
    "!{sys.executable} -m pip install biopython \n",
    "import random \n",
    "import pandas as pd \n",
    "from Bio.Seq import Seq \n",
    "from nupack import *\n",
    "\n",
    "def gibbs(H,C):\n",
    "    H=Strand(str(H), name='H')\n",
    "    C=Strand(str(C), name='C')\n",
    "    set1 = ComplexSet(strands=[H,C], complexes=SetSpec(max_size=2))\n",
    "    \n",
    "    my_model= Model(material='dna', ensemble='stacking', celsius=37)\n",
    "    complex_results = complex_analysis(complexes=set1, model=my_model, compute=['pfunc'])\n",
    "    \n",
    "    rstr=str(complex_results)\n",
    "    gibbs=[]\n",
    "    gibbs.append(rstr.split('-')[-1])\n",
    "    final=str(gibbs)\n",
    "    \n",
    "    return final\n",
    "def gibbs_rna(H,C):\n",
    "    H=Strand(str(H), name='H')\n",
    "    C=Strand(str(C), name='C')\n",
    "    set1 = ComplexSet(strands=[H,C], complexes=SetSpec(max_size=2))\n",
    "    \n",
    "    my_model= Model(material='rna', ensemble='stacking', celsius=37)\n",
    "    complex_results = complex_analysis(complexes=set1, model=my_model, compute=['pfunc'])\n",
    "    rstr=str(complex_results)\n",
    "    \n",
    "    gibbs=[]\n",
    "    gibbs.append(rstr.split('-')[-1])\n",
    "    final=str(gibbs)\n",
    "    \n",
    "    return final\n",
    "\n",
    "def gibbs_HCR(H1,H2,H3,H4):\n",
    "    H1=Strand(str(H1), name='H1')\n",
    "    H2=Strand(str(H2), name='H2')\n",
    "    H3=Strand(str(H3), name='H3')\n",
    "    H4=Strand(str(H4), name='H4')\n",
    "    set1 = ComplexSet(strands=[H1,H2,H3,H4], complexes=SetSpec(max_size=4))\n",
    "    \n",
    "    my_model= Model(material='dna', ensemble='stacking', celsius=37)\n",
    "    complex_results = complex_analysis(complexes=set1, model=my_model, compute=['pfunc'])\n",
    "    \n",
    "    rstr=str(complex_results)\n",
    "    \n",
    "    gibbs=[]\n",
    "    gibbs.append(rstr.split('-')[-1])\n",
    "    final=str(gibbs)\n",
    "    \n",
    "    return final\n",
    "\n",
    "\n",
    "df=pd.DataFrame(columns=['ID','H','sir','Gibbs','sum_Gibbs']) \n",
    "id=df['ID'] \n",
    "sum_Gibbs=0 \n",
    "#Hybrid hairpins free energy Gibbs-INITIAL \n",
    "NUM_OF_HAIRPINS=4 \n",
    "for i in range(NUM_OF_HAIRPINS): \n",
    "    dna=Seq(input('Give hairpin sequence: \\n')) \n",
    "    dna=dna.replace(' ','') \n",
    "    cdna=dna.reverse_complement() \n",
    "    g1=gibbs(dna,cdna)\n",
    "    rna=Seq(input('Give sirna sequence: \\n'))\n",
    "    rna=rna.replace(' ','')\n",
    "    crna=rna.reverse_complement()\n",
    "    g2=gibbs_rna(rna,crna)\n",
    "    g1f=float(g1[2:7])\n",
    "    g2f=float(g2[2:7])\n",
    "    Gibbs_hairpin=(g1f+g2f)/2\n",
    "    sum_Gibbs=sum_Gibbs+Gibbs_hairpin\n",
    "    df.at[i,'ID']=i\n",
    "    df.at[i,'H']=str(dna)\n",
    "    df.at[i,'sir']=str(rna)\n",
    "    df.at[i,'Gibbs']='-'+str(Gibbs_hairpin)\n",
    "    df.at[i,'sum_Gibbs']='-'+str(sum_Gibbs)\n",
    "\n",
    "df.to_csv('HCR free energy Gibbs.csv') \n",
    "df\n",
    "print('The initial DG is: -',sum_Gibbs)\n",
    "\n",
    "#DG-FINAL \n",
    "H1=Seq(input('Give hairpin H1 sequence: \\n')) \n",
    "H1=H1.replace(' ','') \n",
    "H2=Seq(input('Give hairpin H2 sequence: \\n')) \n",
    "H2=H2.replace(' ','') \n",
    "H3=Seq(input('Give hairpin H3 sequence: \\n')) \n",
    "H3=H3.replace(' ','') \n",
    "H4=Seq(input('Give hairpin H4 sequence: \\n')) \n",
    "H4=H4.replace(' ','') \n",
    "g3=gibbs_HCR(H1,H2,H3,H4)\n",
    "g3f=float(g3[2:7])\n",
    "print('DG for HCR product is: -',g3[2:7]) \n",
    "sir1=Seq(input('Give sirna 1 sequence: \\n')) \n",
    "asir1=Seq(input('Give asir 1 sequence: \\n')) \n",
    "g4=gibbs_rna(sir1,asir1) \n",
    "g4f=float(g4[2:7])\n",
    "sir2=Seq(input('Give sirna 2 sequence: \\n')) \n",
    "asir2=Seq(input('Give asir 2 sequence: \\n')) \n",
    "g5=gibbs_rna(sir2,asir2) \n",
    "g5f=float(g5[2:7])\n",
    "\n",
    "g_final=g3f+g4f+g5f \n",
    "\n",
    "print('The final DG is: -',g_final) \n",
    "DG=g_final-sum_Gibbs\n",
    "print('The total DG is: -',DG) \n",
    "\n"
   ]
  },
  {
   "cell_type": "code",
   "execution_count": null,
   "id": "f77c1cd8-ba2d-413b-a927-565b45a3aecd",
   "metadata": {},
   "outputs": [],
   "source": []
  }
 ],
 "metadata": {
  "kernelspec": {
   "display_name": "Python 3 (ipykernel)",
   "language": "python",
   "name": "python3"
  },
  "language_info": {
   "codemirror_mode": {
    "name": "ipython",
    "version": 3
   },
   "file_extension": ".py",
   "mimetype": "text/x-python",
   "name": "python",
   "nbconvert_exporter": "python",
   "pygments_lexer": "ipython3",
   "version": "3.9.12"
  }
 },
 "nbformat": 4,
 "nbformat_minor": 5
}
