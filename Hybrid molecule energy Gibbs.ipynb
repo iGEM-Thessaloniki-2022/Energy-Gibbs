{
 "cells": [
  {
   "cell_type": "code",
   "execution_count": 8,
   "id": "a5826734-6e97-425a-a072-91e5dabbf666",
   "metadata": {},
   "outputs": [
    {
     "name": "stdout",
     "output_type": "stream",
     "text": [
      "Requirement already satisfied: biopython in ./miniconda3/lib/python3.9/site-packages (1.79)\n",
      "Requirement already satisfied: numpy in ./miniconda3/lib/python3.9/site-packages (from biopython) (1.22.3)\n"
     ]
    },
    {
     "name": "stdin",
     "output_type": "stream",
     "text": [
      "Give  hairpin sequence: \n",
      " CAGACTGATGTTGAGTAGAACCGAATTTGTGCGGTTCTACTCAACATCAGTCTGACGTACTTTCAGCACTTCGAAGTAGTGCT\n",
      "Give sirna sequence: \n",
      " AGCACUACUUCGAAGUGGC\n"
     ]
    },
    {
     "name": "stdout",
     "output_type": "stream",
     "text": [
      "Fre energy Gibbs for hybrid molecule DNA/RNA is:- 50.09\n"
     ]
    }
   ],
   "source": [
    "#When running on Jupyter Lab\n",
    "import sys\n",
    "!{sys.executable} -m pip install biopython\n",
    "import random\n",
    "import pandas as pd\n",
    "from Bio.Seq import Seq\n",
    "from nupack import *\n",
    "\n",
    "def gibbs(H,C):\n",
    "\t\n",
    "\tH=Strand(str(H), name='H')\n",
    "\tC=Strand(str(C), name='C')\n",
    "\tset1 = ComplexSet(strands=[H,C], complexes=SetSpec(max_size=2))\n",
    "\n",
    "\tmy_model= Model(material='dna', ensemble='stacking', celsius=37)\n",
    "\tcomplex_results = complex_analysis(complexes=set1, model=my_model, compute=['pfunc'])\n",
    "\t\n",
    "\trstr=str(complex_results)\n",
    "\t\n",
    "\tgibbs=[]\n",
    "\tgibbs.append(rstr.split('-')[-1])\n",
    "\tfinal=str(gibbs)\n",
    "\t\n",
    "\treturn final\n",
    "\n",
    "def gibbs_rna(H,C):\n",
    "\t\n",
    "\tH=Strand(str(H), name='H')\n",
    "\tC=Strand(str(C), name='C')\n",
    "\tset1 = ComplexSet(strands=[H,C], complexes=SetSpec(max_size=2))\n",
    "\n",
    "\tmy_model= Model(material='rna', ensemble='stacking', celsius=37)\n",
    "\tcomplex_results = complex_analysis(complexes=set1, model=my_model, compute=['pfunc'])\n",
    "\t\n",
    "\trstr=str(complex_results)\n",
    "\t\n",
    "\tgibbs=[]\n",
    "\tgibbs.append(rstr.split('-')[-1])\n",
    "\tfinal=str(gibbs)\n",
    "\t\n",
    "\treturn final\n",
    "\n",
    "#Hybrid hairpins free energy Gibbs\n",
    "dna=Seq(input('Give  hairpin sequence: \\n'))\n",
    "cdna=dna.reverse_complement()\n",
    "g1=gibbs(dna,cdna)\n",
    "\n",
    "rna=Seq(input('Give sirna sequence: \\n'))\n",
    "crna=rna.reverse_complement()\n",
    "g2=gibbs_rna(rna,crna)\n",
    "\n",
    "g1f=float(g1[2:7])\n",
    "g2f=float(g2[2:7])\n",
    "Gibbs_hairpins=(g1f+g2f)/2\n",
    "print('Fre energy Gibbs for hybrid molecule DNA/RNA is:-',Gibbs_hairpins)\n"
   ]
  },
  {
   "cell_type": "code",
   "execution_count": null,
   "id": "0fc7d6a6-2802-4c41-bf83-5a53648badcc",
   "metadata": {},
   "outputs": [],
   "source": []
  }
 ],
 "metadata": {
  "kernelspec": {
   "display_name": "Python 3 (ipykernel)",
   "language": "python",
   "name": "python3"
  },
  "language_info": {
   "codemirror_mode": {
    "name": "ipython",
    "version": 3
   },
   "file_extension": ".py",
   "mimetype": "text/x-python",
   "name": "python",
   "nbconvert_exporter": "python",
   "pygments_lexer": "ipython3",
   "version": "3.9.12"
  }
 },
 "nbformat": 4,
 "nbformat_minor": 5
}
